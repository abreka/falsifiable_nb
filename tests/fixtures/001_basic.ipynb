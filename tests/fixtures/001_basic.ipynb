{
 "cells": [
  {
   "cell_type": "markdown",
   "id": "1458a85a-9291-4633-a8ba-4f9ef79c67b6",
   "metadata": {},
   "source": [
    "Hello, world."
   ]
  },
  {
   "cell_type": "code",
   "execution_count": null,
   "id": "91279f25-0345-40c8-8489-70f9a884dacf",
   "metadata": {},
   "outputs": [],
   "source": []
  }
 ],
 "metadata": {
  "kernelspec": {
   "display_name": "Python 3 (ipykernel)",
   "language": "python",
   "name": "python3"
  },
  "language_info": {
   "codemirror_mode": {
    "name": "ipython",
    "version": 3
   },
   "file_extension": ".py",
   "mimetype": "text/x-python",
   "name": "python",
   "nbconvert_exporter": "python",
   "pygments_lexer": "ipython3",
   "version": "3.10.6"
  }
 },
 "nbformat": 4,
 "nbformat_minor": 5
}
